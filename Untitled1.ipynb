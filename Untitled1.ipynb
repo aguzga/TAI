{
  "nbformat": 4,
  "nbformat_minor": 0,
  "metadata": {
    "colab": {
      "name": "Untitled1.ipynb",
      "provenance": [],
      "collapsed_sections": []
    },
    "kernelspec": {
      "name": "python3",
      "display_name": "Python 3"
    },
    "language_info": {
      "name": "python"
    }
  },
  "cells": [
    {
      "cell_type": "code",
      "metadata": {
        "id": "bKoA4_UnNt9S"
      },
      "source": [
        "!pip install gym-tetris"
      ],
      "execution_count": null,
      "outputs": []
    },
    {
      "cell_type": "code",
      "metadata": {
        "id": "9aHcUnIbDVAO"
      },
      "source": [
        "import torch as T"
      ],
      "execution_count": 79,
      "outputs": []
    },
    {
      "cell_type": "code",
      "metadata": {
        "id": "0jSByp3IPogP"
      },
      "source": [
        "from PIL import Image, ImageOps\n",
        "import numpy as np"
      ],
      "execution_count": 33,
      "outputs": []
    },
    {
      "cell_type": "code",
      "metadata": {
        "colab": {
          "base_uri": "https://localhost:8080/"
        },
        "id": "jODDQbBeN547",
        "outputId": "44e29738-b8d6-4e6b-f7b7-2605d4a6c868"
      },
      "source": [
        "from nes_py.wrappers import JoypadSpace\n",
        "import gym_tetris\n",
        "from gym_tetris.actions import MOVEMENT\n",
        "\n",
        "env = gym_tetris.make('TetrisA-v0')\n",
        "env = JoypadSpace(env, MOVEMENT)\n",
        "\n",
        "done = True\n",
        "for step in range(500):\n",
        "    if done:\n",
        "        state = env.reset()\n",
        "    state, reward, done, info = env.step(env.action_space.sample())\n",
        "    #env.render()\n",
        "print(state.shape)\n",
        "\n",
        "env.close()"
      ],
      "execution_count": 125,
      "outputs": [
        {
          "output_type": "stream",
          "text": [
            "(240, 256, 3)\n"
          ],
          "name": "stdout"
        }
      ]
    },
    {
      "cell_type": "code",
      "metadata": {
        "id": "Y3OO3J1ETFLJ"
      },
      "source": [
        "a = state[47:209, 95:176, :]"
      ],
      "execution_count": 126,
      "outputs": []
    },
    {
      "cell_type": "code",
      "metadata": {
        "colab": {
          "base_uri": "https://localhost:8080/"
        },
        "id": "R1Mgv87sXzyP",
        "outputId": "d2cc4eed-8729-4b95-b6e5-b7f13dedcbef"
      },
      "source": [
        "a.shape"
      ],
      "execution_count": 108,
      "outputs": [
        {
          "output_type": "execute_result",
          "data": {
            "text/plain": [
              "(164, 81)"
            ]
          },
          "metadata": {
            "tags": []
          },
          "execution_count": 108
        }
      ]
    },
    {
      "cell_type": "code",
      "metadata": {
        "id": "QjjEFKc_FaEf"
      },
      "source": [
        "a = a[..., :3] @ [0.299, 0.587, 0.114]"
      ],
      "execution_count": 128,
      "outputs": []
    },
    {
      "cell_type": "code",
      "metadata": {
        "colab": {
          "base_uri": "https://localhost:8080/"
        },
        "id": "MosoluFvdTGy",
        "outputId": "53a1b0c6-9934-4098-b7e2-d8e66c4b25f6"
      },
      "source": [
        "idcs = np.arange(4,81,8)\n",
        "a[158][idcs]"
      ],
      "execution_count": 134,
      "outputs": [
        {
          "output_type": "execute_result",
          "data": {
            "text/plain": [
              "array([  0.,   0.,   0.,   0.,   0.,   0., 252.,   0.,   0.,   0.])"
            ]
          },
          "metadata": {
            "tags": []
          },
          "execution_count": 134
        }
      ]
    },
    {
      "cell_type": "code",
      "metadata": {
        "id": "jYX2xTzhXyko"
      },
      "source": [
        "b = np.packbits(a.astype(bool))\n",
        "b.dtype"
      ],
      "execution_count": null,
      "outputs": []
    },
    {
      "cell_type": "code",
      "metadata": {
        "id": "7uq5TSknFsCi"
      },
      "source": [
        ""
      ],
      "execution_count": null,
      "outputs": []
    },
    {
      "cell_type": "code",
      "metadata": {
        "colab": {
          "base_uri": "https://localhost:8080/",
          "height": 179
        },
        "id": "8F9b1h-vcHFr",
        "outputId": "3b82e217-19c4-42a4-a3ae-cf965f7befef"
      },
      "source": [
        "im = Image.fromarray(a, 'RGB')\n",
        "im = im.convert('L')\n",
        "im"
      ],
      "execution_count": 127,
      "outputs": [
        {
          "output_type": "execute_result",
          "data": {
            "image/png": "[encoded data removed]",
            "text/plain": [
              "<PIL.Image.Image image mode=L size=81x162 at 0x7FD831F31090>"
            ]
          },
          "metadata": {
            "tags": []
          },
          "execution_count": 127
        }
      ]
    },
    {
      "cell_type": "code",
      "metadata": {
        "id": "q0wsmsGsPgi-"
      },
      "source": [
        "im = Image.fromarray(a, 'L')\n",
        "#im.convert('L')\n",
        "b = np.asarray(im)\n",
        "b = b.astype('bool')"
      ],
      "execution_count": null,
      "outputs": []
    },
    {
      "cell_type": "code",
      "metadata": {
        "colab": {
          "base_uri": "https://localhost:8080/",
          "height": 182
        },
        "id": "jItN0kUIbWw_",
        "outputId": "3e6c44b6-67be-4c80-9d3e-07143e0ecbd2"
      },
      "source": [
        "im"
      ],
      "execution_count": null,
      "outputs": [
        {
          "output_type": "execute_result",
          "data": {
            "image/png": "[encoded data removed]",
            "text/plain": [
              "<PIL.Image.Image image mode=RGB size=90x165 at 0x7F63260297D0>"
            ]
          },
          "metadata": {
            "tags": []
          },
          "execution_count": 176
        }
      ]
    },
    {
      "cell_type": "code",
      "metadata": {
        "colab": {
          "base_uri": "https://localhost:8080/"
        },
        "id": "bwuSidiYaDnA",
        "outputId": "fe9f51e5-8d76-48ca-daf8-09318406c079"
      },
      "source": [
        "np.packbits(b)"
      ],
      "execution_count": null,
      "outputs": [
        {
          "output_type": "execute_result",
          "data": {
            "text/plain": [
              "array([255, 255, 255, ..., 255, 255,   0], dtype=uint8)"
            ]
          },
          "metadata": {
            "tags": []
          },
          "execution_count": 154
        }
      ]
    },
    {
      "cell_type": "code",
      "metadata": {
        "colab": {
          "base_uri": "https://localhost:8080/"
        },
        "id": "ttuon5ZJSerU",
        "outputId": "7b660092-5ac4-477d-e671-3221fb77a899"
      },
      "source": [
        "info"
      ],
      "execution_count": null,
      "outputs": [
        {
          "output_type": "execute_result",
          "data": {
            "text/plain": [
              "{'board_height': 0,\n",
              " 'current_piece': 'Jr',\n",
              " 'next_piece': 'Zh',\n",
              " 'number_of_lines': 0,\n",
              " 'score': 0,\n",
              " 'statistics': {'I': 0, 'J': 1, 'L': 0, 'O': 0, 'S': 0, 'T': 0, 'Z': 0}}"
            ]
          },
          "metadata": {
            "tags": []
          },
          "execution_count": 105
        }
      ]
    },
    {
      "cell_type": "code",
      "metadata": {
        "id": "hytdU7DnMeNe"
      },
      "source": [
        "class QNetworkCNN(nn.Module):\n",
        "    def __init__(self, action_dim):\n",
        "        super(QNetworkCNN, self).__init__()\n",
        "\n",
        "        self.conv_1 = nn.Conv2d(3, 32, kernel_size=8, stride=4)\n",
        "        self.conv_2 = nn.Conv2d(32, 64, kernel_size=4, stride=3)\n",
        "        self.conv_3 = nn.Conv2d(64, 64, kernel_size=3, stride=1)\n",
        "        self.fc_1 = nn.Linear(8960, 512)\n",
        "        self.fc_2 = nn.Linear(512, action_dim)\n",
        "\n",
        "    def forward(self, inp):\n",
        "        inp = inp.view((1, 3, 210, 160))\n",
        "        x1 = F.relu(self.conv_1(inp))\n",
        "        x1 = F.relu(self.conv_2(x1))\n",
        "        x1 = F.relu(self.conv_3(x1))\n",
        "        x1 = torch.flatten(x1, 1)\n",
        "        x1 = F.leaky_relu(self.fc_1(x1))\n",
        "        x1 = self.fc_2(x1)\n",
        "\n",
        "        return x1"
      ],
      "execution_count": null,
      "outputs": []
    },
    {
      "cell_type": "code",
      "metadata": {
        "id": "QR0tEb3rNYHH"
      },
      "source": [
        "class Encoder(nn.Module):\n",
        "    def __init__(self, in_channel, channel, n_res_block, n_res_channel, stride):\n",
        "        super().__init__()\n",
        "\n",
        "        if stride == 4:\n",
        "            blocks = [\n",
        "                nn.Conv2d(in_channel, channel // 2, 4, stride=2, padding=1),\n",
        "                nn.ReLU(inplace=True),\n",
        "                nn.Conv2d(channel // 2, channel, 4, stride=2, padding=1),\n",
        "                nn.ReLU(inplace=True),\n",
        "                nn.Conv2d(channel, channel, 3, padding=1),\n",
        "            ]\n",
        "\n",
        "        elif stride == 2:\n",
        "            blocks = [\n",
        "                nn.Conv2d(in_channel, channel // 2, 4, stride=2, padding=1),\n",
        "                nn.ReLU(inplace=True),\n",
        "                nn.Conv2d(channel // 2, channel, 3, padding=1),\n",
        "            ]\n",
        "\n",
        "        for i in range(n_res_block):\n",
        "            blocks.append(ResBlock(channel, n_res_channel))\n",
        "\n",
        "        blocks.append(nn.ReLU(inplace=True))\n",
        "\n",
        "        self.blocks = nn.Sequential(*blocks)\n",
        "\n",
        "    def forward(self, input):\n",
        "        return self.blocks(input)\n"
      ],
      "execution_count": null,
      "outputs": []
    },
    {
      "cell_type": "code",
      "metadata": {
        "id": "NPAV3NQgNACm"
      },
      "source": [
        "class ResBlock(nn.Module):\n",
        "    def __init__(self, in_channel, channel):\n",
        "        super().__init__()\n",
        "\n",
        "        self.conv = nn.Sequential(\n",
        "            nn.ReLU(),\n",
        "            nn.Conv2d(in_channel, channel, 3, padding=1),\n",
        "            nn.ReLU(inplace=True),\n",
        "            nn.Conv2d(channel, in_channel, 1),\n",
        "        )\n",
        "\n",
        "    def forward(self, input):\n",
        "        out = self.conv(input)\n",
        "        out += input\n",
        "\n",
        "        return out\n"
      ],
      "execution_count": null,
      "outputs": []
    },
    {
      "cell_type": "code",
      "metadata": {
        "id": "8wxa4ymRNtYl"
      },
      "source": [
        "class QNetworkCNN(nn.Module):\n",
        "    def __init__(\n",
        "        self,\n",
        "        in_channel=1,\n",
        "        channel=128,\n",
        "        n_res_block=2,\n",
        "        n_res_channel=32,\n",
        "        stride=2,\n",
        "        action_dim=4\n",
        "        ):\n",
        "      \n",
        "        self.enc = Encoder(in_channel, channel, n_res_block, n_res_channel, stride)\n",
        "        self.fc_1 = nn.Linear(8960, 512)\n",
        "        self.fc_2 = nn.Linear(512, action_dim)\n",
        "      \n",
        "\n",
        "    def forward(self, inp):\n",
        "      inp = inp.view((1, 163, 80))\n",
        "      x = self.enc.forward(inp)\n",
        "      x = torch.flatten(x, 1)\n",
        "      x = F.relu(self.fc_1(x))\n",
        "      x = T.nn.Softmax(self.fc_2(x))\n",
        "\n",
        "      return x\n",
        "\n",
        "    \n"
      ],
      "execution_count": null,
      "outputs": []
    },
    {
      "cell_type": "code",
      "metadata": {
        "id": "DVoJ-okeSQLF"
      },
      "source": [
        "class Memory:\n",
        "    def __init__(self, len):\n",
        "        self.rewards = colmalections.deque(xlen=len)\n",
        "        self.state = collections.deque(maxlen=len)\n",
        "        self.action = collections.deque(maxlen=len)\n",
        "        self.is_done = collections.deque(maxlen=len)\n",
        "\n",
        "    def update(self, state, action, reward, done):\n",
        "        # if the episode is finished we do not save to new state. Otherwise we have more states per episode than rewards\n",
        "        # and actions whcih leads to a mismatch when we sample from memory.\n",
        "        if not done:\n",
        "            self.state.append(state)\n",
        "        self.action.append(action)\n",
        "        self.rewards.append(reward)\n",
        "        self.is_done.append(done)\n",
        "\n",
        "    def sample(self, batch_size):\n",
        "        \"\"\"\n",
        "        sample \"batch_size\" many (state, action, reward, next state, is_done) datapoints.\n",
        "        \"\"\"\n",
        "        n = len(self.is_done)\n",
        "        idx = random.sample(range(0, n-1), batch_size)\n",
        "\n",
        "        return torch.Tensor(self.state)[idx].to(device), torch.LongTensor(self.action)[idx].to(device), \\\n",
        "               torch.Tensor(self.state)[1+np.array(idx)].to(device), torch.Tensor(self.rewards)[idx].to(device), \\\n",
        "               torch.Tensor(self.is_done)[idx].to(device)\n",
        "\n",
        "    def reset(self):\n",
        "        self.rewards.clear()\n",
        "        self.state.clear()\n",
        "        self.action.clear()\n",
        "        self.is_done.clear()\n"
      ],
      "execution_count": null,
      "outputs": []
    },
    {
      "cell_type": "code",
      "metadata": {
        "id": "4RyFPKNGTiY5"
      },
      "source": [
        "def eps_greedy_select_action(model, env, state, eps):\n",
        "    state = torch.Tensor(state).to(device)\n",
        "    with torch.no_grad():\n",
        "        values = model(state)\n",
        "\n",
        "    # select a random action wih probability eps\n",
        "    if random.random() <= eps:\n",
        "        action = np.random.randint(0, env.action_space.n)\n",
        "    else:\n",
        "        action = np.argmax(values.cpu().numpy())\n",
        "\n",
        "    return action"
      ],
      "execution_count": null,
      "outputs": []
    }
  ]
}