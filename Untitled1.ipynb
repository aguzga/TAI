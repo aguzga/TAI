{
  "nbformat": 4,
  "nbformat_minor": 0,
  "metadata": {
    "colab": {
      "name": "Untitled1.ipynb",
      "provenance": [],
      "collapsed_sections": []
    },
    "kernelspec": {
      "name": "python3",
      "display_name": "Python 3"
    },
    "language_info": {
      "name": "python"
    }
  },
  "cells": [
    {
      "cell_type": "code",
      "metadata": {
        "id": "bKoA4_UnNt9S"
      },
      "source": [
        "!pip install gym-tetris"
      ],
      "execution_count": null,
      "outputs": []
    },
    {
      "cell_type": "code",
      "metadata": {
        "id": "9aHcUnIbDVAO"
      },
      "source": [
        "import torch as T"
      ],
      "execution_count": null,
      "outputs": []
    },
    {
      "cell_type": "code",
      "metadata": {
        "id": "0jSByp3IPogP"
      },
      "source": [
        "from PIL import Image, ImageOps\n",
        "import numpy as np"
      ],
      "execution_count": 2,
      "outputs": []
    },
    {
      "cell_type": "code",
      "metadata": {
        "colab": {
          "base_uri": "https://localhost:8080/"
        },
        "id": "jODDQbBeN547",
        "outputId": "21d19501-d320-47b8-d601-61d4df76218a"
      },
      "source": [
        "from nes_py.wrappers import JoypadSpace\n",
        "import gym_tetris\n",
        "from gym_tetris.actions import MOVEMENT\n",
        "\n",
        "env = gym_tetris.make('TetrisA-v0')\n",
        "env = JoypadSpace(env, MOVEMENT)\n",
        "\n",
        "done = True\n",
        "for step in range(500):\n",
        "    if done:\n",
        "        state = env.reset()\n",
        "    state, reward, done, info = env.step(env.action_space.sample())\n",
        "    #env.render()\n",
        "print(state.shape)\n",
        "\n",
        "env.close()"
      ],
      "execution_count": 108,
      "outputs": [
        {
          "output_type": "stream",
          "text": [
            "(240, 256, 3)\n"
          ],
          "name": "stdout"
        }
      ]
    },
    {
      "cell_type": "code",
      "metadata": {
        "id": "Y3OO3J1ETFLJ"
      },
      "source": [
        "a = np.copy(state[47:209, 95:176, :])"
      ],
      "execution_count": 109,
      "outputs": []
    },
    {
      "cell_type": "code",
      "metadata": {
        "colab": {
          "base_uri": "https://localhost:8080/"
        },
        "id": "R1Mgv87sXzyP",
        "outputId": "c29c4aca-11d7-43ea-bccc-3dc0d3ed75c7"
      },
      "source": [
        "a.shape"
      ],
      "execution_count": 6,
      "outputs": [
        {
          "output_type": "execute_result",
          "data": {
            "text/plain": [
              "(162, 81, 3)"
            ]
          },
          "metadata": {
            "tags": []
          },
          "execution_count": 6
        }
      ]
    },
    {
      "cell_type": "code",
      "metadata": {
        "id": "QjjEFKc_FaEf"
      },
      "source": [
        "mini_state = (a[..., :3] @ [0.299, 0.587, 0.114]).astype(np.uint8)"
      ],
      "execution_count": 110,
      "outputs": []
    },
    {
      "cell_type": "code",
      "metadata": {
        "colab": {
          "base_uri": "https://localhost:8080/"
        },
        "id": "b9MPVHImOHZM",
        "outputId": "a749e574-16c7-4d9a-e962-b2646d5c6286"
      },
      "source": [
        "b = a[..., :3] @ [0.299, 0.587, 0.114]\n",
        "b[b!=0]"
      ],
      "execution_count": 88,
      "outputs": [
        {
          "output_type": "execute_result",
          "data": {
            "text/plain": [
              "array([130.728,  89.939,  87.29 , ...,  94.929, 121.393, 102.407])"
            ]
          },
          "metadata": {
            "tags": []
          },
          "execution_count": 88
        }
      ]
    },
    {
      "cell_type": "code",
      "metadata": {
        "colab": {
          "base_uri": "https://localhost:8080/"
        },
        "id": "MosoluFvdTGy",
        "outputId": "d2bdf7b3-8d62-44bc-d550-8bb646d0d40e"
      },
      "source": [
        "#mini_state = np.zeros((20,10), dtype=np.int8)\n",
        "idcs_y = np.arange(4,81,8)\n",
        "idcs_x = np.arange(4,162,8)\n",
        "mini_state = mini_state[idcs_x[:, np.newaxis],idcs_y]\n",
        "mini_state[mini_state > 0] = 1\n",
        "mini_state"
      ],
      "execution_count": 111,
      "outputs": [
        {
          "output_type": "execute_result",
          "data": {
            "text/plain": [
              "array([[0, 0, 0, 0, 0, 0, 0, 0, 0, 0],\n",
              "       [0, 0, 0, 0, 0, 0, 0, 0, 0, 0],\n",
              "       [0, 0, 0, 0, 0, 0, 0, 0, 0, 0],\n",
              "       [0, 0, 0, 0, 0, 0, 0, 0, 0, 0],\n",
              "       [0, 0, 0, 0, 0, 0, 0, 0, 0, 0],\n",
              "       [0, 0, 0, 0, 0, 0, 0, 0, 0, 0],\n",
              "       [0, 0, 0, 0, 0, 0, 0, 0, 0, 0],\n",
              "       [0, 0, 0, 0, 0, 0, 0, 0, 0, 0],\n",
              "       [0, 0, 0, 0, 0, 0, 0, 0, 0, 0],\n",
              "       [0, 0, 0, 0, 0, 0, 0, 0, 0, 0],\n",
              "       [0, 0, 0, 0, 0, 0, 0, 0, 0, 0],\n",
              "       [0, 1, 0, 0, 0, 0, 0, 0, 0, 0],\n",
              "       [0, 1, 0, 0, 0, 0, 0, 0, 0, 0],\n",
              "       [0, 1, 0, 0, 0, 0, 0, 0, 0, 0],\n",
              "       [0, 1, 0, 0, 0, 0, 0, 0, 0, 0],\n",
              "       [0, 0, 0, 0, 0, 0, 0, 0, 0, 0],\n",
              "       [0, 0, 0, 0, 0, 0, 0, 0, 0, 0],\n",
              "       [0, 0, 0, 0, 0, 0, 0, 0, 0, 0],\n",
              "       [0, 0, 0, 0, 0, 0, 0, 0, 0, 0],\n",
              "       [0, 0, 0, 0, 0, 0, 0, 0, 0, 0]], dtype=uint8)"
            ]
          },
          "metadata": {
            "tags": []
          },
          "execution_count": 111
        }
      ]
    },
    {
      "cell_type": "code",
      "metadata": {
        "id": "jYX2xTzhXyko",
        "colab": {
          "base_uri": "https://localhost:8080/"
        },
        "outputId": "2ea8cc62-2621-4d49-c536-0a8c3ddbaad5"
      },
      "source": [
        "np.packbits(mini_state.astype(bool))"
      ],
      "execution_count": 107,
      "outputs": [
        {
          "output_type": "execute_result",
          "data": {
            "text/plain": [
              "array([ 0,  0,  0,  0,  0,  0,  0,  0,  0,  0,  0,  0,  0,  0,  0,  4,  1,\n",
              "        0, 96,  0,  0,  0,  0,  0,  0], dtype=uint8)"
            ]
          },
          "metadata": {
            "tags": []
          },
          "execution_count": 107
        }
      ]
    },
    {
      "cell_type": "code",
      "metadata": {
        "id": "7uq5TSknFsCi"
      },
      "source": [
        ""
      ],
      "execution_count": null,
      "outputs": []
    },
    {
      "cell_type": "code",
      "metadata": {
        "colab": {
          "base_uri": "https://localhost:8080/",
          "height": 179
        },
        "id": "8F9b1h-vcHFr",
        "outputId": "18dcb4e2-6dd4-46bf-dfc6-61e0469c60bc"
      },
      "source": [
        "im = Image.fromarray(a, 'RGB')\n",
        "#im = im.convert('L')\n",
        "im"
      ],
      "execution_count": 112,
      "outputs": [
        {
          "output_type": "execute_result",
          "data": {
            "image/png": "[encoded data removed]",
            "text/plain": [
              "<PIL.Image.Image image mode=RGB size=81x162 at 0x7F878BA7D1D0>"
            ]
          },
          "metadata": {
            "tags": []
          },
          "execution_count": 112
        }
      ]
    },
    {
      "cell_type": "code",
      "metadata": {
        "id": "q0wsmsGsPgi-"
      },
      "source": [
        "im = Image.fromarray(a, 'L')\n",
        "#im.convert('L')\n",
        "b = np.asarray(im)\n",
        "b = b.astype('bool')"
      ],
      "execution_count": null,
      "outputs": []
    },
    {
      "cell_type": "code",
      "metadata": {
        "colab": {
          "base_uri": "https://localhost:8080/",
          "height": 182
        },
        "id": "jItN0kUIbWw_",
        "outputId": "3e6c44b6-67be-4c80-9d3e-07143e0ecbd2"
      },
      "source": [
        "im"
      ],
      "execution_count": null,
      "outputs": [
        {
          "output_type": "execute_result",
          "data": {
            "image/png": "[encoded data removed]",
            "text/plain": [
              "<PIL.Image.Image image mode=RGB size=90x165 at 0x7F63260297D0>"
            ]
          },
          "metadata": {
            "tags": []
          },
          "execution_count": 176
        }
      ]
    },
    {
      "cell_type": "code",
      "metadata": {
        "colab": {
          "base_uri": "https://localhost:8080/"
        },
        "id": "bwuSidiYaDnA",
        "outputId": "fe9f51e5-8d76-48ca-daf8-09318406c079"
      },
      "source": [
        "np.packbits(b)"
      ],
      "execution_count": null,
      "outputs": [
        {
          "output_type": "execute_result",
          "data": {
            "text/plain": [
              "array([255, 255, 255, ..., 255, 255,   0], dtype=uint8)"
            ]
          },
          "metadata": {
            "tags": []
          },
          "execution_count": 154
        }
      ]
    },
    {
      "cell_type": "code",
      "metadata": {
        "colab": {
          "base_uri": "https://localhost:8080/"
        },
        "id": "ttuon5ZJSerU",
        "outputId": "7b660092-5ac4-477d-e671-3221fb77a899"
      },
      "source": [
        "info"
      ],
      "execution_count": null,
      "outputs": [
        {
          "output_type": "execute_result",
          "data": {
            "text/plain": [
              "{'board_height': 0,\n",
              " 'current_piece': 'Jr',\n",
              " 'next_piece': 'Zh',\n",
              " 'number_of_lines': 0,\n",
              " 'score': 0,\n",
              " 'statistics': {'I': 0, 'J': 1, 'L': 0, 'O': 0, 'S': 0, 'T': 0, 'Z': 0}}"
            ]
          },
          "metadata": {
            "tags": []
          },
          "execution_count": 105
        }
      ]
    },
    {
      "cell_type": "code",
      "metadata": {
        "id": "hytdU7DnMeNe"
      },
      "source": [
        "class QNetworkCNN(nn.Module):\n",
        "    def __init__(self, action_dim):\n",
        "        super(QNetworkCNN, self).__init__()\n",
        "\n",
        "        self.conv_1 = nn.Conv2d(3, 32, kernel_size=8, stride=4)\n",
        "        self.conv_2 = nn.Conv2d(32, 64, kernel_size=4, stride=3)\n",
        "        self.conv_3 = nn.Conv2d(64, 64, kernel_size=3, stride=1)\n",
        "        self.fc_1 = nn.Linear(8960, 512)\n",
        "        self.fc_2 = nn.Linear(512, action_dim)\n",
        "\n",
        "    def forward(self, inp):\n",
        "        inp = inp.view((1, 3, 210, 160))\n",
        "        x1 = F.relu(self.conv_1(inp))\n",
        "        x1 = F.relu(self.conv_2(x1))\n",
        "        x1 = F.relu(self.conv_3(x1))\n",
        "        x1 = torch.flatten(x1, 1)\n",
        "        x1 = F.leaky_relu(self.fc_1(x1))\n",
        "        x1 = self.fc_2(x1)\n",
        "\n",
        "        return x1"
      ],
      "execution_count": null,
      "outputs": []
    },
    {
      "cell_type": "code",
      "metadata": {
        "id": "QR0tEb3rNYHH"
      },
      "source": [
        "class Encoder(nn.Module):\n",
        "    def __init__(self, in_channel, channel, n_res_block, n_res_channel, stride):\n",
        "        super().__init__()\n",
        "\n",
        "        if stride == 4:\n",
        "            blocks = [\n",
        "                nn.Conv2d(in_channel, channel // 2, 4, stride=2, padding=1),\n",
        "                nn.ReLU(inplace=True),\n",
        "                nn.Conv2d(channel // 2, channel, 4, stride=2, padding=1),\n",
        "                nn.ReLU(inplace=True),\n",
        "                nn.Conv2d(channel, channel, 3, padding=1),\n",
        "            ]\n",
        "\n",
        "        elif stride == 2:\n",
        "            blocks = [\n",
        "                nn.Conv2d(in_channel, channel // 2, 4, stride=2, padding=1),\n",
        "                nn.ReLU(inplace=True),\n",
        "                nn.Conv2d(channel // 2, channel, 3, padding=1),\n",
        "            ]\n",
        "\n",
        "        for i in range(n_res_block):\n",
        "            blocks.append(ResBlock(channel, n_res_channel))\n",
        "\n",
        "        blocks.append(nn.ReLU(inplace=True))\n",
        "\n",
        "        self.blocks = nn.Sequential(*blocks)\n",
        "\n",
        "    def forward(self, input):\n",
        "        return self.blocks(input)"
      ],
      "execution_count": null,
      "outputs": []
    },
    {
      "cell_type": "code",
      "metadata": {
        "id": "NPAV3NQgNACm"
      },
      "source": [
        "class ResBlock(nn.Module):\n",
        "    def __init__(self, in_channel, channel):\n",
        "        super().__init__()\n",
        "\n",
        "        self.conv = nn.Sequential(\n",
        "            nn.ReLU(),\n",
        "            nn.Conv2d(in_channel, channel, 3, padding=1),\n",
        "            nn.ReLU(inplace=True),\n",
        "            nn.Conv2d(channel, in_channel, 1),\n",
        "        )\n",
        "\n",
        "    def forward(self, input):\n",
        "        out = self.conv(input)\n",
        "        out += input\n",
        "\n",
        "        return out\n"
      ],
      "execution_count": null,
      "outputs": []
    },
    {
      "cell_type": "code",
      "metadata": {
        "id": "8wxa4ymRNtYl"
      },
      "source": [
        "class QNetworkCNN(nn.Module):\n",
        "    def __init__(\n",
        "        self,\n",
        "        in_channel=4,\n",
        "        channel=128,\n",
        "        n_res_block=2,\n",
        "        n_res_channel=32,\n",
        "        stride=2,\n",
        "        action_dim=4\n",
        "        ):\n",
        "      \n",
        "        self.enc = Encoder(in_channel, channel, n_res_block, n_res_channel, stride)\n",
        "        self.fc_1 = nn.Linear(8960, 512)\n",
        "        self.fc_2 = nn.Linear(512, action_dim)\n",
        "      \n",
        "\n",
        "    def forward(self, inp):\n",
        "      inp = inp.view((1, 163, 80))\n",
        "      x = self.enc.forward(inp)\n",
        "      x = torch.flatten(x, 1)\n",
        "      x = F.relu(self.fc_1(x))\n",
        "      x = T.nn.Softmax(self.fc_2(x))\n",
        "\n",
        "      return x\n",
        "\n",
        "    \n"
      ],
      "execution_count": null,
      "outputs": []
    },
    {
      "cell_type": "code",
      "metadata": {
        "id": "DVoJ-okeSQLF"
      },
      "source": [
        "class ReplayBuffer:\n",
        "    def __init__(self, max_size, input_shape):\n",
        "      self.size_ctr = 0\n",
        "      self.max_size = max_size\n",
        "\n",
        "      self.states = np.zeros((max_size, *input_shape), dtype=np.float32)\n",
        "      self.rewards = np.zeros(max_size, dtype=np.float32)\n",
        "      self.actions = np.zeros(max_size, dtype=np.float32)\n",
        "      self.is_done = np.zeros(max_size, dtype=np.float32)\n",
        "\n",
        "\n",
        "    def store(self, state, action, reward, done):\n",
        "        idx = self.size_ctr % self.max_size\n",
        "\n",
        "        self.state[self.size_ctr] = state\n",
        "        self.action[idx] = action\n",
        "        self.rewards[idx] = reward\n",
        "        self.is_done[idx] = done\n",
        "        self.size_ctr += 1\n",
        "\n",
        "    def sample(self, batch_size):\n",
        "\n",
        "        max_idx = min(self.max_size, self.size_ctr)\n",
        "        idcs = np.random.choice(max_idx, batch_size, replace=False)\n",
        "\n",
        "        states = self.state[idcs]\n",
        "        actions = self.actions[idcs]\n",
        "        rewards = self.rewards[idcs]\n",
        "        is_dones = self.is_done[idcs]\n",
        "\n",
        "        return states, actions, rewards, is_dones"
      ],
      "execution_count": null,
      "outputs": []
    },
    {
      "cell_type": "code",
      "metadata": {
        "id": "MnA6ma9EjtHJ"
      },
      "source": [
        "class Agent:\n",
        "  def __init__(self, batch_size, input_shape, max_buffer_size, epsilon, gamma, lr, epsilon_decay, min_epsilon, n_actions):\n",
        "    self.batch_size = batch_size\n",
        "    self.input_shape = input_shape\n",
        "    self.epsilon = epsilon\n",
        "    self.lr = lr\n",
        "    self.epsilon_decay = epsilon_decay\n",
        "    self.min_epsilon = min_epsilon\n",
        "    self.max_buffer_size = max_buffer_size\n",
        "\n",
        "    self.predict_QNetwork = QNetworkCNN(action_dim=n_actions).to(device)\n",
        "    self.target_QNetwork = QNetworkCNN(action_dim=n_actions).to(device)\n",
        "    self.target_QNetwork.load_state_dict(self.predict_QNetwork.state_dict())\n",
        "\n",
        "    for parameter in target_QNetwork.parameters():\n",
        "        parameter.requires_grad = False\n",
        "\n",
        "    optimizer = T.optim.Adam(self.predict_QNetwork.parameters(), lr=lr)\n",
        "    #scheduler = StepLR(optimizer, step_size=lr_step, gamma=lr_gamma)\n",
        "\n",
        "    memory = Memory(max_memory_size)\n",
        "    performance = []\n",
        "\n",
        "\n",
        "    def eps_greedy_select_action(self, state):\n",
        "\n",
        "      if np.random.random() > self.epsilon:\n",
        "        state = torch.Tensor(state).to(device)\n",
        "        with torch.no_grad():\n",
        "            predictions = model(state)\n",
        "        return np.argmax(predictions.cpu().numpy())\n",
        "        \n",
        "      else:\n",
        "        return np.random.randint(n_actions)\n",
        "        \n",
        "    def train(self):\n",
        "      pass\n",
        "\n",
        "    \n"
      ],
      "execution_count": null,
      "outputs": []
    },
    {
      "cell_type": "code",
      "metadata": {
        "id": "4RyFPKNGTiY5"
      },
      "source": [
        ""
      ],
      "execution_count": null,
      "outputs": []
    }
  ]
}